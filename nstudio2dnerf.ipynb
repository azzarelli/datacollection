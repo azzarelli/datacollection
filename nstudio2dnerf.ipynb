{
 "cells": [
  {
   "attachments": {},
   "cell_type": "markdown",
   "metadata": {},
   "source": [
    "# Nerfstudio To D-NeRF dataset\n",
    "\n",
    "Set Up:\n",
    "\n",
    "1. Installl Nerfstudio and activate environment\n",
    "2. Run this notebook with the nerfstudio conda environment\n",
    "\n",
    "Instructions:\n",
    "\n",
    "1. Update configuration relative to desired parameters\n",
    "2. Run the method"
   ]
  },
  {
   "attachments": {},
   "cell_type": "markdown",
   "metadata": {},
   "source": [
    "## Configuration\n",
    "\n",
    "Information:\n",
    "1. `nerfstudio_fp` is the path **to the folder** containing `transforms.json`\n",
    "2. `output_fp` is the path to the folder you wish to write `transforms_train.json`, `transforms_test.json` and `transforms_val.json`\n",
    "3. `downscale_images_fp` is the folder containing the downscaled images if you would rather save these than the original images. As dnerf format doesn't consider downscaled images, this will allow you to use them instead."
   ]
  },
  {
   "cell_type": "code",
   "execution_count": 3,
   "metadata": {},
   "outputs": [],
   "source": [
    "nerfstudio_fp ='path/to/folder/containing/tranform/file'\n",
    "output_fp = 'path/to/write/transform/to'\n",
    "\n",
    "downscale_images_fp = 'path/to/folder/containing/downscalled/images'"
   ]
  },
  {
   "attachments": {},
   "cell_type": "markdown",
   "metadata": {},
   "source": [
    "Import dependencies"
   ]
  },
  {
   "cell_type": "code",
   "execution_count": null,
   "metadata": {},
   "outputs": [],
   "source": []
  }
 ],
 "metadata": {
  "kernelspec": {
   "display_name": "base",
   "language": "python",
   "name": "python3"
  },
  "language_info": {
   "codemirror_mode": {
    "name": "ipython",
    "version": 3
   },
   "file_extension": ".py",
   "mimetype": "text/x-python",
   "name": "python",
   "nbconvert_exporter": "python",
   "pygments_lexer": "ipython3",
   "version": "3.10.9"
  },
  "orig_nbformat": 4
 },
 "nbformat": 4,
 "nbformat_minor": 2
}
