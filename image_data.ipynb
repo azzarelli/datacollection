{
 "cells": [
  {
   "attachments": {},
   "cell_type": "markdown",
   "metadata": {},
   "source": [
    "# Displaying Data from Collection\n",
    "\n",
    "In this notebook we will visuallise data and provide objective metrics for evaluating the parametric inter-variance of camera parameters."
   ]
  },
  {
   "cell_type": "code",
   "execution_count": 3,
   "metadata": {},
   "outputs": [],
   "source": [
    "import matplotlib.pyplot as plt\n",
    "import pandas as pd\n",
    "import numpy as np"
   ]
  },
  {
   "attachments": {},
   "cell_type": "markdown",
   "metadata": {},
   "source": [
    "Set and load image label file (we used csv)"
   ]
  },
  {
   "cell_type": "code",
   "execution_count": 7,
   "metadata": {},
   "outputs": [
    {
     "name": "stdout",
     "output_type": "stream",
     "text": [
      "     DSC0    ISO  mm      WB    set\n",
      "0    4544  10000  24  2500.0   True\n",
      "1    4545  10000  24     NaN   True\n",
      "2    4546  10000  24     NaN   True\n",
      "3    4547  10000  24     NaN   True\n",
      "4    4548  10000  24     NaN   True\n",
      "..    ...    ...  ..     ...    ...\n",
      "301  4871   4000  24     NaN  False\n",
      "302  4872   4000  24     NaN  False\n",
      "303  4874   4000  68     NaN  False\n",
      "304  4875   4000  68     NaN  False\n",
      "305  4876   4000  27     NaN  False\n",
      "\n",
      "[306 rows x 5 columns]\n"
     ]
    }
   ],
   "source": [
    "df = pd.read_csv('data/labels.csv')\n",
    "\n",
    "df.plot(x='ISO', y='mm', style=['o','rx'])\n"
   ]
  }
 ],
 "metadata": {
  "kernelspec": {
   "display_name": "base",
   "language": "python",
   "name": "python3"
  },
  "language_info": {
   "codemirror_mode": {
    "name": "ipython",
    "version": 3
   },
   "file_extension": ".py",
   "mimetype": "text/x-python",
   "name": "python",
   "nbconvert_exporter": "python",
   "pygments_lexer": "ipython3",
   "version": "3.10.9"
  },
  "orig_nbformat": 4
 },
 "nbformat": 4,
 "nbformat_minor": 2
}
